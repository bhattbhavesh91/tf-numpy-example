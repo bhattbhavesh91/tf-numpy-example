{
  "nbformat": 4,
  "nbformat_minor": 0,
  "metadata": {
    "colab": {
      "name": "tf-numpy-notebook.ipynb",
      "provenance": [],
      "collapsed_sections": []
    },
    "kernelspec": {
      "name": "python3",
      "display_name": "Python 3"
    },
    "accelerator": "GPU"
  },
  "cells": [
    {
      "cell_type": "code",
      "metadata": {
        "id": "LgDYonM40OKp"
      },
      "source": [
        "# !pip install --quiet --upgrade tf-nightly"
      ],
      "execution_count": 1,
      "outputs": []
    },
    {
      "cell_type": "code",
      "metadata": {
        "colab": {
          "base_uri": "https://localhost:8080/"
        },
        "id": "LvbXa6HavIRm",
        "outputId": "8571e241-cc9e-477c-d1de-5a3178307ce2"
      },
      "source": [
        "!nvidia-smi"
      ],
      "execution_count": 2,
      "outputs": [
        {
          "output_type": "stream",
          "text": [
            "Sun Mar  7 05:55:22 2021       \n",
            "+-----------------------------------------------------------------------------+\n",
            "| NVIDIA-SMI 460.39       Driver Version: 460.32.03    CUDA Version: 11.2     |\n",
            "|-------------------------------+----------------------+----------------------+\n",
            "| GPU  Name        Persistence-M| Bus-Id        Disp.A | Volatile Uncorr. ECC |\n",
            "| Fan  Temp  Perf  Pwr:Usage/Cap|         Memory-Usage | GPU-Util  Compute M. |\n",
            "|                               |                      |               MIG M. |\n",
            "|===============================+======================+======================|\n",
            "|   0  Tesla T4            Off  | 00000000:00:04.0 Off |                    0 |\n",
            "| N/A   62C    P8    10W /  70W |      0MiB / 15109MiB |      0%      Default |\n",
            "|                               |                      |                  N/A |\n",
            "+-------------------------------+----------------------+----------------------+\n",
            "                                                                               \n",
            "+-----------------------------------------------------------------------------+\n",
            "| Processes:                                                                  |\n",
            "|  GPU   GI   CI        PID   Type   Process name                  GPU Memory |\n",
            "|        ID   ID                                                   Usage      |\n",
            "|=============================================================================|\n",
            "|  No running processes found                                                 |\n",
            "+-----------------------------------------------------------------------------+\n"
          ],
          "name": "stdout"
        }
      ]
    },
    {
      "cell_type": "code",
      "metadata": {
        "id": "OcaOu73LvQJV"
      },
      "source": [
        "import time\r\n",
        "import numpy as np\r\n",
        "import tensorflow as tf\r\n",
        "import tensorflow.experimental.numpy as tnp"
      ],
      "execution_count": 3,
      "outputs": []
    },
    {
      "cell_type": "code",
      "metadata": {
        "colab": {
          "base_uri": "https://localhost:8080/"
        },
        "id": "BCk6r1sZOy9P",
        "outputId": "f3e92689-5bc3-489c-8935-b290e5233a0d"
      },
      "source": [
        "print(tf.__version__)"
      ],
      "execution_count": 4,
      "outputs": [
        {
          "output_type": "stream",
          "text": [
            "2.4.1\n"
          ],
          "name": "stdout"
        }
      ]
    },
    {
      "cell_type": "code",
      "metadata": {
        "colab": {
          "base_uri": "https://localhost:8080/"
        },
        "id": "gjRumYZXzbaT",
        "outputId": "a0bf219c-e878-4367-8623-d1c15b2ee2c5"
      },
      "source": [
        "try:\r\n",
        "  device = tf.config.list_logical_devices(device_type=\"GPU\")[0]\r\n",
        "except IndexError:\r\n",
        "  device = \"/device:CPU:0\"\r\n",
        "print(device)"
      ],
      "execution_count": 5,
      "outputs": [
        {
          "output_type": "stream",
          "text": [
            "LogicalDevice(name='/device:GPU:0', device_type='GPU')\n"
          ],
          "name": "stdout"
        }
      ]
    },
    {
      "cell_type": "code",
      "metadata": {
        "id": "dboA_OzevaaQ"
      },
      "source": [
        "arr_size = 10000"
      ],
      "execution_count": 6,
      "outputs": []
    },
    {
      "cell_type": "markdown",
      "metadata": {
        "id": "JVCO-Jp2zvsB"
      },
      "source": [
        "# Numpy Matrix Multiplication"
      ]
    },
    {
      "cell_type": "code",
      "metadata": {
        "id": "A2jcV39kxI5R"
      },
      "source": [
        "np_arr1 = np.random.rand(arr_size, arr_size)\r\n",
        "np_arr2 = np.random.rand(arr_size, arr_size)"
      ],
      "execution_count": 7,
      "outputs": []
    },
    {
      "cell_type": "code",
      "metadata": {
        "colab": {
          "base_uri": "https://localhost:8080/"
        },
        "id": "ivHXE_NSvq05",
        "outputId": "452a3416-1806-460f-fd6a-b90004b7d582"
      },
      "source": [
        "start = time.process_time()\r\n",
        "np_arr3 = np.matmul(np_arr1, np_arr2)\r\n",
        "numpy_time = time.process_time() - start\r\n",
        "print(numpy_time)"
      ],
      "execution_count": 8,
      "outputs": [
        {
          "output_type": "stream",
          "text": [
            "90.305097456\n"
          ],
          "name": "stdout"
        }
      ]
    },
    {
      "cell_type": "markdown",
      "metadata": {
        "id": "noSIndF4zz0e"
      },
      "source": [
        "# TF Numpy Matrix Multiplication"
      ]
    },
    {
      "cell_type": "code",
      "metadata": {
        "colab": {
          "base_uri": "https://localhost:8080/"
        },
        "id": "O2-F1D7Kxowr",
        "outputId": "81fe4dd8-228e-4656-dced-c05d87b4fde4"
      },
      "source": [
        "start = time.process_time()\r\n",
        "with tf.device(device):\r\n",
        "  tf_arr1 = tnp.random.rand(arr_size, arr_size)\r\n",
        "  tf_arr2 = tnp.random.rand(arr_size, arr_size)\r\n",
        "  tf_out = tnp.matmul(tf_arr1, tf_arr2)\r\n",
        "tf_time = time.process_time() - start\r\n",
        "print(tf_time)"
      ],
      "execution_count": 9,
      "outputs": [
        {
          "output_type": "stream",
          "text": [
            "0.5866849149999922\n"
          ],
          "name": "stdout"
        }
      ]
    },
    {
      "cell_type": "code",
      "metadata": {
        "colab": {
          "base_uri": "https://localhost:8080/"
        },
        "id": "-haxytjQyj75",
        "outputId": "3dc5e53f-5568-46a9-85db-9748e466715d"
      },
      "source": [
        "numpy_time/tf_time"
      ],
      "execution_count": 10,
      "outputs": [
        {
          "output_type": "execute_result",
          "data": {
            "text/plain": [
              "153.92435555634015"
            ]
          },
          "metadata": {
            "tags": []
          },
          "execution_count": 10
        }
      ]
    },
    {
      "cell_type": "code",
      "metadata": {
        "id": "vvUcXCMr9KKF"
      },
      "source": [
        ""
      ],
      "execution_count": null,
      "outputs": []
    }
  ]
}